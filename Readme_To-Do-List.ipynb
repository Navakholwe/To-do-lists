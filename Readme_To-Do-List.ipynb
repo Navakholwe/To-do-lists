{
 "cells": [
  {
   "cell_type": "markdown",
   "id": "c795b85f",
   "metadata": {},
   "source": [
    "# Nava-To-Do-List\n",
    "1. Create an empty list where the To-Do items will go.\n",
    "2. Define a function to add a task in the To-Do-List.\n",
    "3. Define a function to mark a task as completed.\n",
    "4. Define a function to display the list of tasks\n",
    "5. Define a function to remove a task from the to-do list.\n",
    "6. Define a function to display the welcome note to the app.\n",
    "7. Define a function to display the welcome note to the app.\n",
    "8. Create menu option for the To-Do-List\n",
    "\n"
   ]
  }
 ],
 "metadata": {
  "kernelspec": {
   "display_name": "Python 3 (ipykernel)",
   "language": "python",
   "name": "python3"
  },
  "language_info": {
   "codemirror_mode": {
    "name": "ipython",
    "version": 3
   },
   "file_extension": ".py",
   "mimetype": "text/x-python",
   "name": "python",
   "nbconvert_exporter": "python",
   "pygments_lexer": "ipython3",
   "version": "3.11.3"
  }
 },
 "nbformat": 4,
 "nbformat_minor": 5
}
